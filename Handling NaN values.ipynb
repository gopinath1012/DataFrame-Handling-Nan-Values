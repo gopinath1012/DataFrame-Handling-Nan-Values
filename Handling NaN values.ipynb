{
 "cells": [
  {
   "cell_type": "markdown",
   "metadata": {},
   "source": [
    "#### Handling NaN values in datase"
   ]
  },
  {
   "cell_type": "code",
   "execution_count": 1,
   "metadata": {},
   "outputs": [],
   "source": [
    "import pandas as pd\n",
    "\n",
    "df=pd.read_csv('/Users/gopinath/Desktop/Machine Learning/Handling Nan types/datasets_673762_1185224_country-wise-average.csv')"
   ]
  },
  {
   "cell_type": "code",
   "execution_count": 2,
   "metadata": {},
   "outputs": [
    {
     "data": {
      "text/html": [
       "<div>\n",
       "<style scoped>\n",
       "    .dataframe tbody tr th:only-of-type {\n",
       "        vertical-align: middle;\n",
       "    }\n",
       "\n",
       "    .dataframe tbody tr th {\n",
       "        vertical-align: top;\n",
       "    }\n",
       "\n",
       "    .dataframe thead th {\n",
       "        text-align: right;\n",
       "    }\n",
       "</style>\n",
       "<table border=\"1\" class=\"dataframe\">\n",
       "  <thead>\n",
       "    <tr style=\"text-align: right;\">\n",
       "      <th></th>\n",
       "      <th>Country</th>\n",
       "      <th>Income Classification</th>\n",
       "      <th>Severe Wasting</th>\n",
       "      <th>Wasting</th>\n",
       "      <th>Overweight</th>\n",
       "      <th>Stunting</th>\n",
       "      <th>Underweight</th>\n",
       "      <th>U5 Population ('000s)</th>\n",
       "    </tr>\n",
       "  </thead>\n",
       "  <tbody>\n",
       "    <tr>\n",
       "      <th>0</th>\n",
       "      <td>AFGHANISTAN</td>\n",
       "      <td>0.0</td>\n",
       "      <td>3.033333</td>\n",
       "      <td>10.350000</td>\n",
       "      <td>5.125000</td>\n",
       "      <td>47.775000</td>\n",
       "      <td>30.375000</td>\n",
       "      <td>4918.561500</td>\n",
       "    </tr>\n",
       "    <tr>\n",
       "      <th>1</th>\n",
       "      <td>ALBANIA</td>\n",
       "      <td>2.0</td>\n",
       "      <td>4.075000</td>\n",
       "      <td>7.760000</td>\n",
       "      <td>20.800000</td>\n",
       "      <td>24.160000</td>\n",
       "      <td>7.700000</td>\n",
       "      <td>232.859800</td>\n",
       "    </tr>\n",
       "    <tr>\n",
       "      <th>2</th>\n",
       "      <td>ALGERIA</td>\n",
       "      <td>2.0</td>\n",
       "      <td>2.733333</td>\n",
       "      <td>5.942857</td>\n",
       "      <td>12.833333</td>\n",
       "      <td>19.571429</td>\n",
       "      <td>7.342857</td>\n",
       "      <td>3565.213143</td>\n",
       "    </tr>\n",
       "    <tr>\n",
       "      <th>3</th>\n",
       "      <td>ANGOLA</td>\n",
       "      <td>1.0</td>\n",
       "      <td>2.400000</td>\n",
       "      <td>6.933333</td>\n",
       "      <td>2.550000</td>\n",
       "      <td>42.633333</td>\n",
       "      <td>23.600000</td>\n",
       "      <td>3980.054000</td>\n",
       "    </tr>\n",
       "    <tr>\n",
       "      <th>4</th>\n",
       "      <td>ARGENTINA</td>\n",
       "      <td>2.0</td>\n",
       "      <td>0.200000</td>\n",
       "      <td>2.150000</td>\n",
       "      <td>11.125000</td>\n",
       "      <td>10.025000</td>\n",
       "      <td>2.600000</td>\n",
       "      <td>3613.651750</td>\n",
       "    </tr>\n",
       "  </tbody>\n",
       "</table>\n",
       "</div>"
      ],
      "text/plain": [
       "       Country  Income Classification  Severe Wasting    Wasting  Overweight  \\\n",
       "0  AFGHANISTAN                    0.0        3.033333  10.350000    5.125000   \n",
       "1      ALBANIA                    2.0        4.075000   7.760000   20.800000   \n",
       "2      ALGERIA                    2.0        2.733333   5.942857   12.833333   \n",
       "3       ANGOLA                    1.0        2.400000   6.933333    2.550000   \n",
       "4    ARGENTINA                    2.0        0.200000   2.150000   11.125000   \n",
       "\n",
       "    Stunting  Underweight  U5 Population ('000s)  \n",
       "0  47.775000    30.375000            4918.561500  \n",
       "1  24.160000     7.700000             232.859800  \n",
       "2  19.571429     7.342857            3565.213143  \n",
       "3  42.633333    23.600000            3980.054000  \n",
       "4  10.025000     2.600000            3613.651750  "
      ]
     },
     "execution_count": 2,
     "metadata": {},
     "output_type": "execute_result"
    }
   ],
   "source": [
    "df.head()"
   ]
  },
  {
   "cell_type": "code",
   "execution_count": 3,
   "metadata": {},
   "outputs": [
    {
     "name": "stdout",
     "output_type": "stream",
     "text": [
      "<class 'pandas.core.frame.DataFrame'>\n",
      "RangeIndex: 152 entries, 0 to 151\n",
      "Data columns (total 8 columns):\n",
      " #   Column                 Non-Null Count  Dtype  \n",
      "---  ------                 --------------  -----  \n",
      " 0   Country                152 non-null    object \n",
      " 1   Income Classification  152 non-null    float64\n",
      " 2   Severe Wasting         140 non-null    float64\n",
      " 3   Wasting                150 non-null    float64\n",
      " 4   Overweight             149 non-null    float64\n",
      " 5   Stunting               151 non-null    float64\n",
      " 6   Underweight            150 non-null    float64\n",
      " 7   U5 Population ('000s)  152 non-null    float64\n",
      "dtypes: float64(7), object(1)\n",
      "memory usage: 9.6+ KB\n"
     ]
    }
   ],
   "source": [
    "df.info()"
   ]
  },
  {
   "cell_type": "code",
   "execution_count": 4,
   "metadata": {},
   "outputs": [
    {
     "data": {
      "text/html": [
       "<div>\n",
       "<style scoped>\n",
       "    .dataframe tbody tr th:only-of-type {\n",
       "        vertical-align: middle;\n",
       "    }\n",
       "\n",
       "    .dataframe tbody tr th {\n",
       "        vertical-align: top;\n",
       "    }\n",
       "\n",
       "    .dataframe thead th {\n",
       "        text-align: right;\n",
       "    }\n",
       "</style>\n",
       "<table border=\"1\" class=\"dataframe\">\n",
       "  <thead>\n",
       "    <tr style=\"text-align: right;\">\n",
       "      <th></th>\n",
       "      <th>Country</th>\n",
       "      <th>Income Classification</th>\n",
       "      <th>Severe Wasting</th>\n",
       "      <th>Wasting</th>\n",
       "      <th>Overweight</th>\n",
       "      <th>Stunting</th>\n",
       "      <th>Underweight</th>\n",
       "      <th>U5 Population ('000s)</th>\n",
       "    </tr>\n",
       "  </thead>\n",
       "  <tbody>\n",
       "    <tr>\n",
       "      <th>0</th>\n",
       "      <td>False</td>\n",
       "      <td>False</td>\n",
       "      <td>False</td>\n",
       "      <td>False</td>\n",
       "      <td>False</td>\n",
       "      <td>False</td>\n",
       "      <td>False</td>\n",
       "      <td>False</td>\n",
       "    </tr>\n",
       "    <tr>\n",
       "      <th>1</th>\n",
       "      <td>False</td>\n",
       "      <td>False</td>\n",
       "      <td>False</td>\n",
       "      <td>False</td>\n",
       "      <td>False</td>\n",
       "      <td>False</td>\n",
       "      <td>False</td>\n",
       "      <td>False</td>\n",
       "    </tr>\n",
       "    <tr>\n",
       "      <th>2</th>\n",
       "      <td>False</td>\n",
       "      <td>False</td>\n",
       "      <td>False</td>\n",
       "      <td>False</td>\n",
       "      <td>False</td>\n",
       "      <td>False</td>\n",
       "      <td>False</td>\n",
       "      <td>False</td>\n",
       "    </tr>\n",
       "    <tr>\n",
       "      <th>3</th>\n",
       "      <td>False</td>\n",
       "      <td>False</td>\n",
       "      <td>False</td>\n",
       "      <td>False</td>\n",
       "      <td>False</td>\n",
       "      <td>False</td>\n",
       "      <td>False</td>\n",
       "      <td>False</td>\n",
       "    </tr>\n",
       "    <tr>\n",
       "      <th>4</th>\n",
       "      <td>False</td>\n",
       "      <td>False</td>\n",
       "      <td>False</td>\n",
       "      <td>False</td>\n",
       "      <td>False</td>\n",
       "      <td>False</td>\n",
       "      <td>False</td>\n",
       "      <td>False</td>\n",
       "    </tr>\n",
       "    <tr>\n",
       "      <th>...</th>\n",
       "      <td>...</td>\n",
       "      <td>...</td>\n",
       "      <td>...</td>\n",
       "      <td>...</td>\n",
       "      <td>...</td>\n",
       "      <td>...</td>\n",
       "      <td>...</td>\n",
       "      <td>...</td>\n",
       "    </tr>\n",
       "    <tr>\n",
       "      <th>147</th>\n",
       "      <td>False</td>\n",
       "      <td>False</td>\n",
       "      <td>True</td>\n",
       "      <td>False</td>\n",
       "      <td>False</td>\n",
       "      <td>False</td>\n",
       "      <td>False</td>\n",
       "      <td>False</td>\n",
       "    </tr>\n",
       "    <tr>\n",
       "      <th>148</th>\n",
       "      <td>False</td>\n",
       "      <td>False</td>\n",
       "      <td>False</td>\n",
       "      <td>False</td>\n",
       "      <td>False</td>\n",
       "      <td>False</td>\n",
       "      <td>False</td>\n",
       "      <td>False</td>\n",
       "    </tr>\n",
       "    <tr>\n",
       "      <th>149</th>\n",
       "      <td>False</td>\n",
       "      <td>False</td>\n",
       "      <td>False</td>\n",
       "      <td>False</td>\n",
       "      <td>False</td>\n",
       "      <td>False</td>\n",
       "      <td>False</td>\n",
       "      <td>False</td>\n",
       "    </tr>\n",
       "    <tr>\n",
       "      <th>150</th>\n",
       "      <td>False</td>\n",
       "      <td>False</td>\n",
       "      <td>False</td>\n",
       "      <td>False</td>\n",
       "      <td>False</td>\n",
       "      <td>False</td>\n",
       "      <td>False</td>\n",
       "      <td>False</td>\n",
       "    </tr>\n",
       "    <tr>\n",
       "      <th>151</th>\n",
       "      <td>False</td>\n",
       "      <td>False</td>\n",
       "      <td>False</td>\n",
       "      <td>False</td>\n",
       "      <td>False</td>\n",
       "      <td>False</td>\n",
       "      <td>False</td>\n",
       "      <td>False</td>\n",
       "    </tr>\n",
       "  </tbody>\n",
       "</table>\n",
       "<p>152 rows × 8 columns</p>\n",
       "</div>"
      ],
      "text/plain": [
       "     Country  Income Classification  Severe Wasting  Wasting  Overweight  \\\n",
       "0      False                  False           False    False       False   \n",
       "1      False                  False           False    False       False   \n",
       "2      False                  False           False    False       False   \n",
       "3      False                  False           False    False       False   \n",
       "4      False                  False           False    False       False   \n",
       "..       ...                    ...             ...      ...         ...   \n",
       "147    False                  False            True    False       False   \n",
       "148    False                  False           False    False       False   \n",
       "149    False                  False           False    False       False   \n",
       "150    False                  False           False    False       False   \n",
       "151    False                  False           False    False       False   \n",
       "\n",
       "     Stunting  Underweight  U5 Population ('000s)  \n",
       "0       False        False                  False  \n",
       "1       False        False                  False  \n",
       "2       False        False                  False  \n",
       "3       False        False                  False  \n",
       "4       False        False                  False  \n",
       "..        ...          ...                    ...  \n",
       "147     False        False                  False  \n",
       "148     False        False                  False  \n",
       "149     False        False                  False  \n",
       "150     False        False                  False  \n",
       "151     False        False                  False  \n",
       "\n",
       "[152 rows x 8 columns]"
      ]
     },
     "execution_count": 4,
     "metadata": {},
     "output_type": "execute_result"
    }
   ],
   "source": [
    "df.isna()"
   ]
  },
  {
   "cell_type": "code",
   "execution_count": 5,
   "metadata": {},
   "outputs": [
    {
     "data": {
      "text/plain": [
       "<matplotlib.axes._subplots.AxesSubplot at 0x7fe56d453750>"
      ]
     },
     "execution_count": 5,
     "metadata": {},
     "output_type": "execute_result"
    },
    {
     "data": {
      "image/png": "[encoded data removed]",
      "text/plain": [
       "<Figure size 432x288 with 2 Axes>"
      ]
     },
     "metadata": {
      "needs_background": "light"
     },
     "output_type": "display_data"
    }
   ],
   "source": [
    "import seaborn as sns\n",
    "sns.heatmap(df.isna(),fmt='d',yticklabels=False)"
   ]
  },
  {
   "cell_type": "code",
   "execution_count": 6,
   "metadata": {},
   "outputs": [
    {
     "data": {
      "text/plain": [
       "(12, 3)"
      ]
     },
     "execution_count": 6,
     "metadata": {},
     "output_type": "execute_result"
    }
   ],
   "source": [
    "df['Severe Wasting'].isna().sum(),df['Overweight'].isna().sum()"
   ]
  },
  {
   "cell_type": "code",
   "execution_count": 7,
   "metadata": {},
   "outputs": [
    {
     "data": {
      "text/plain": [
       "<matplotlib.axes._subplots.AxesSubplot at 0x7fe56e090710>"
      ]
     },
     "execution_count": 7,
     "metadata": {},
     "output_type": "execute_result"
    },
    {
     "data": {
      "image/png": "[encoded data removed]",
      "text/plain": [
       "<Figure size 432x288 with 1 Axes>"
      ]
     },
     "metadata": {
      "needs_background": "light"
     },
     "output_type": "display_data"
    }
   ],
   "source": [
    "sns.boxplot(x=df['Severe Wasting'],orient='v',data=df)"
   ]
  },
  {
   "cell_type": "code",
   "execution_count": 8,
   "metadata": {},
   "outputs": [
    {
     "data": {
      "text/html": [
       "<div>\n",
       "<style scoped>\n",
       "    .dataframe tbody tr th:only-of-type {\n",
       "        vertical-align: middle;\n",
       "    }\n",
       "\n",
       "    .dataframe tbody tr th {\n",
       "        vertical-align: top;\n",
       "    }\n",
       "\n",
       "    .dataframe thead th {\n",
       "        text-align: right;\n",
       "    }\n",
       "</style>\n",
       "<table border=\"1\" class=\"dataframe\">\n",
       "  <thead>\n",
       "    <tr style=\"text-align: right;\">\n",
       "      <th></th>\n",
       "      <th>Income Classification</th>\n",
       "      <th>Severe Wasting</th>\n",
       "      <th>Wasting</th>\n",
       "      <th>Overweight</th>\n",
       "      <th>Stunting</th>\n",
       "      <th>Underweight</th>\n",
       "      <th>U5 Population ('000s)</th>\n",
       "    </tr>\n",
       "  </thead>\n",
       "  <tbody>\n",
       "    <tr>\n",
       "      <th>count</th>\n",
       "      <td>152.000000</td>\n",
       "      <td>140.000000</td>\n",
       "      <td>150.000000</td>\n",
       "      <td>149.000000</td>\n",
       "      <td>151.000000</td>\n",
       "      <td>150.000000</td>\n",
       "      <td>152.000000</td>\n",
       "    </tr>\n",
       "    <tr>\n",
       "      <th>mean</th>\n",
       "      <td>1.427632</td>\n",
       "      <td>2.168650</td>\n",
       "      <td>6.599257</td>\n",
       "      <td>7.201638</td>\n",
       "      <td>25.814728</td>\n",
       "      <td>13.503047</td>\n",
       "      <td>4042.927052</td>\n",
       "    </tr>\n",
       "    <tr>\n",
       "      <th>std</th>\n",
       "      <td>0.967019</td>\n",
       "      <td>1.708939</td>\n",
       "      <td>4.481723</td>\n",
       "      <td>4.649144</td>\n",
       "      <td>14.686807</td>\n",
       "      <td>10.895839</td>\n",
       "      <td>13164.191927</td>\n",
       "    </tr>\n",
       "    <tr>\n",
       "      <th>min</th>\n",
       "      <td>0.000000</td>\n",
       "      <td>0.000000</td>\n",
       "      <td>0.000000</td>\n",
       "      <td>0.962500</td>\n",
       "      <td>1.000000</td>\n",
       "      <td>0.100000</td>\n",
       "      <td>1.000000</td>\n",
       "    </tr>\n",
       "    <tr>\n",
       "      <th>25%</th>\n",
       "      <td>1.000000</td>\n",
       "      <td>0.900000</td>\n",
       "      <td>3.262500</td>\n",
       "      <td>3.850000</td>\n",
       "      <td>13.485000</td>\n",
       "      <td>4.305000</td>\n",
       "      <td>241.765813</td>\n",
       "    </tr>\n",
       "    <tr>\n",
       "      <th>50%</th>\n",
       "      <td>1.000000</td>\n",
       "      <td>1.872500</td>\n",
       "      <td>5.710714</td>\n",
       "      <td>6.300000</td>\n",
       "      <td>24.160000</td>\n",
       "      <td>10.380000</td>\n",
       "      <td>981.233486</td>\n",
       "    </tr>\n",
       "    <tr>\n",
       "      <th>75%</th>\n",
       "      <td>2.000000</td>\n",
       "      <td>2.822727</td>\n",
       "      <td>8.740476</td>\n",
       "      <td>9.080000</td>\n",
       "      <td>36.564935</td>\n",
       "      <td>19.496875</td>\n",
       "      <td>3002.433080</td>\n",
       "    </tr>\n",
       "    <tr>\n",
       "      <th>max</th>\n",
       "      <td>3.000000</td>\n",
       "      <td>11.400000</td>\n",
       "      <td>23.650000</td>\n",
       "      <td>26.500000</td>\n",
       "      <td>57.600000</td>\n",
       "      <td>46.266667</td>\n",
       "      <td>123014.491000</td>\n",
       "    </tr>\n",
       "  </tbody>\n",
       "</table>\n",
       "</div>"
      ],
      "text/plain": [
       "       Income Classification  Severe Wasting     Wasting  Overweight  \\\n",
       "count             152.000000      140.000000  150.000000  149.000000   \n",
       "mean                1.427632        2.168650    6.599257    7.201638   \n",
       "std                 0.967019        1.708939    4.481723    4.649144   \n",
       "min                 0.000000        0.000000    0.000000    0.962500   \n",
       "25%                 1.000000        0.900000    3.262500    3.850000   \n",
       "50%                 1.000000        1.872500    5.710714    6.300000   \n",
       "75%                 2.000000        2.822727    8.740476    9.080000   \n",
       "max                 3.000000       11.400000   23.650000   26.500000   \n",
       "\n",
       "         Stunting  Underweight  U5 Population ('000s)  \n",
       "count  151.000000   150.000000             152.000000  \n",
       "mean    25.814728    13.503047            4042.927052  \n",
       "std     14.686807    10.895839           13164.191927  \n",
       "min      1.000000     0.100000               1.000000  \n",
       "25%     13.485000     4.305000             241.765813  \n",
       "50%     24.160000    10.380000             981.233486  \n",
       "75%     36.564935    19.496875            3002.433080  \n",
       "max     57.600000    46.266667          123014.491000  "
      ]
     },
     "execution_count": 8,
     "metadata": {},
     "output_type": "execute_result"
    }
   ],
   "source": [
    "df.describe()"
   ]
  },
  {
   "cell_type": "code",
   "execution_count": 9,
   "metadata": {},
   "outputs": [
    {
     "data": {
      "text/plain": [
       "1.8725"
      ]
     },
     "execution_count": 9,
     "metadata": {},
     "output_type": "execute_result"
    }
   ],
   "source": [
    "median=df['Severe Wasting'].median()\n",
    "median"
   ]
  },
  {
   "cell_type": "code",
   "execution_count": 10,
   "metadata": {},
   "outputs": [],
   "source": [
    "#df['Severe Wasting']=df['Severe Wasting'].fillna(median)"
   ]
  },
  {
   "cell_type": "code",
   "execution_count": 11,
   "metadata": {},
   "outputs": [
    {
     "data": {
      "text/plain": [
       "12"
      ]
     },
     "execution_count": 11,
     "metadata": {},
     "output_type": "execute_result"
    }
   ],
   "source": [
    "df['Severe Wasting'].isna().sum()"
   ]
  },
  {
   "cell_type": "code",
   "execution_count": 12,
   "metadata": {},
   "outputs": [
    {
     "data": {
      "text/html": [
       "<div>\n",
       "<style scoped>\n",
       "    .dataframe tbody tr th:only-of-type {\n",
       "        vertical-align: middle;\n",
       "    }\n",
       "\n",
       "    .dataframe tbody tr th {\n",
       "        vertical-align: top;\n",
       "    }\n",
       "\n",
       "    .dataframe thead th {\n",
       "        text-align: right;\n",
       "    }\n",
       "</style>\n",
       "<table border=\"1\" class=\"dataframe\">\n",
       "  <thead>\n",
       "    <tr style=\"text-align: right;\">\n",
       "      <th></th>\n",
       "      <th>Country</th>\n",
       "      <th>Income Classification</th>\n",
       "      <th>Severe Wasting</th>\n",
       "      <th>Wasting</th>\n",
       "      <th>Overweight</th>\n",
       "      <th>Stunting</th>\n",
       "      <th>Underweight</th>\n",
       "      <th>U5 Population ('000s)</th>\n",
       "    </tr>\n",
       "  </thead>\n",
       "  <tbody>\n",
       "    <tr>\n",
       "      <th>0</th>\n",
       "      <td>AFGHANISTAN</td>\n",
       "      <td>0.0</td>\n",
       "      <td>3.033333</td>\n",
       "      <td>10.350000</td>\n",
       "      <td>5.125000</td>\n",
       "      <td>47.775000</td>\n",
       "      <td>30.375000</td>\n",
       "      <td>4918.561500</td>\n",
       "    </tr>\n",
       "    <tr>\n",
       "      <th>1</th>\n",
       "      <td>ALBANIA</td>\n",
       "      <td>2.0</td>\n",
       "      <td>4.075000</td>\n",
       "      <td>7.760000</td>\n",
       "      <td>20.800000</td>\n",
       "      <td>24.160000</td>\n",
       "      <td>7.700000</td>\n",
       "      <td>232.859800</td>\n",
       "    </tr>\n",
       "    <tr>\n",
       "      <th>2</th>\n",
       "      <td>ALGERIA</td>\n",
       "      <td>2.0</td>\n",
       "      <td>2.733333</td>\n",
       "      <td>5.942857</td>\n",
       "      <td>12.833333</td>\n",
       "      <td>19.571429</td>\n",
       "      <td>7.342857</td>\n",
       "      <td>3565.213143</td>\n",
       "    </tr>\n",
       "    <tr>\n",
       "      <th>3</th>\n",
       "      <td>ANGOLA</td>\n",
       "      <td>1.0</td>\n",
       "      <td>2.400000</td>\n",
       "      <td>6.933333</td>\n",
       "      <td>2.550000</td>\n",
       "      <td>42.633333</td>\n",
       "      <td>23.600000</td>\n",
       "      <td>3980.054000</td>\n",
       "    </tr>\n",
       "    <tr>\n",
       "      <th>4</th>\n",
       "      <td>ARGENTINA</td>\n",
       "      <td>2.0</td>\n",
       "      <td>0.200000</td>\n",
       "      <td>2.150000</td>\n",
       "      <td>11.125000</td>\n",
       "      <td>10.025000</td>\n",
       "      <td>2.600000</td>\n",
       "      <td>3613.651750</td>\n",
       "    </tr>\n",
       "  </tbody>\n",
       "</table>\n",
       "</div>"
      ],
      "text/plain": [
       "       Country  Income Classification  Severe Wasting    Wasting  Overweight  \\\n",
       "0  AFGHANISTAN                    0.0        3.033333  10.350000    5.125000   \n",
       "1      ALBANIA                    2.0        4.075000   7.760000   20.800000   \n",
       "2      ALGERIA                    2.0        2.733333   5.942857   12.833333   \n",
       "3       ANGOLA                    1.0        2.400000   6.933333    2.550000   \n",
       "4    ARGENTINA                    2.0        0.200000   2.150000   11.125000   \n",
       "\n",
       "    Stunting  Underweight  U5 Population ('000s)  \n",
       "0  47.775000    30.375000            4918.561500  \n",
       "1  24.160000     7.700000             232.859800  \n",
       "2  19.571429     7.342857            3565.213143  \n",
       "3  42.633333    23.600000            3980.054000  \n",
       "4  10.025000     2.600000            3613.651750  "
      ]
     },
     "execution_count": 12,
     "metadata": {},
     "output_type": "execute_result"
    }
   ],
   "source": [
    "df.head()"
   ]
  },
  {
   "cell_type": "code",
   "execution_count": 14,
   "metadata": {},
   "outputs": [
    {
     "data": {
      "text/plain": [
       "<matplotlib.axes._subplots.AxesSubplot at 0x7fe56d680110>"
      ]
     },
     "execution_count": 14,
     "metadata": {},
     "output_type": "execute_result"
    },
    {
     "data": {
      "image/png": "[encoded data removed]",
      "text/plain": [
       "<Figure size 432x288 with 2 Axes>"
      ]
     },
     "metadata": {
      "needs_background": "light"
     },
     "output_type": "display_data"
    }
   ],
   "source": [
    "sns.heatmap(df.isna())"
   ]
  },
  {
   "cell_type": "code",
   "execution_count": 15,
   "metadata": {},
   "outputs": [
    {
     "data": {
      "text/plain": [
       "2"
      ]
     },
     "execution_count": 15,
     "metadata": {},
     "output_type": "execute_result"
    }
   ],
   "source": [
    "df['Wasting'].isna().sum()"
   ]
  },
  {
   "cell_type": "code",
   "execution_count": 16,
   "metadata": {},
   "outputs": [
    {
     "data": {
      "text/plain": [
       "0      0.0\n",
       "1      2.0\n",
       "2      2.0\n",
       "3      1.0\n",
       "4      2.0\n",
       "      ... \n",
       "147    2.0\n",
       "148    1.0\n",
       "149    0.0\n",
       "150    1.0\n",
       "151    1.0\n",
       "Name: Income Classification, Length: 152, dtype: float64"
      ]
     },
     "execution_count": 16,
     "metadata": {},
     "output_type": "execute_result"
    }
   ],
   "source": [
    "df['Income Classification']"
   ]
  },
  {
   "cell_type": "code",
   "execution_count": 17,
   "metadata": {},
   "outputs": [
    {
     "data": {
      "text/plain": [
       "<matplotlib.axes._subplots.AxesSubplot at 0x7fe56d8ad9d0>"
      ]
     },
     "execution_count": 17,
     "metadata": {},
     "output_type": "execute_result"
    },
    {
     "data": {
      "image/png": "[encoded data removed]",
      "text/plain": [
       "<Figure size 432x288 with 1 Axes>"
      ]
     },
     "metadata": {
      "needs_background": "light"
     },
     "output_type": "display_data"
    }
   ],
   "source": [
    "sns.countplot(df['Income Classification'],data=df)"
   ]
  },
  {
   "cell_type": "code",
   "execution_count": 18,
   "metadata": {},
   "outputs": [
    {
     "data": {
      "text/plain": [
       "<matplotlib.axes._subplots.AxesSubplot at 0x7fe56e411f10>"
      ]
     },
     "execution_count": 18,
     "metadata": {},
     "output_type": "execute_result"
    },
    {
     "data": {
      "image/png": "[encoded data removed]",
      "text/plain": [
       "<Figure size 432x288 with 1 Axes>"
      ]
     },
     "metadata": {
      "needs_background": "light"
     },
     "output_type": "display_data"
    }
   ],
   "source": [
    "sns.boxplot(x='Income Classification',y='Severe Wasting',data=df)"
   ]
  },
  {
   "cell_type": "code",
   "execution_count": 19,
   "metadata": {},
   "outputs": [
    {
     "data": {
      "text/plain": [
       "0.5642857142857143"
      ]
     },
     "execution_count": 19,
     "metadata": {},
     "output_type": "execute_result"
    }
   ],
   "source": [
    "df_copy= df.copy()\n",
    "for value in range (0,4):\n",
    "    name='df_copy{}'.format(value)\n",
    "    median='df_copy{}_median'.format(value)\n",
    "    locals()[name] =df_copy[df_copy['Income Classification'] ==value]\n",
    "    locals()[median]=locals()[name]['Severe Wasting'].median()\n",
    "df_copy3_median"
   ]
  },
  {
   "cell_type": "code",
   "execution_count": 20,
   "metadata": {},
   "outputs": [],
   "source": [
    "#wasting=df['Wasting']\n",
    "#wasting.mode()\n",
    "#pd.isnull(wasting)\n",
    "#wasting=wasting.fillna(wasting.median,inplace=True)"
   ]
  },
  {
   "cell_type": "code",
   "execution_count": 21,
   "metadata": {},
   "outputs": [
    {
     "data": {
      "text/plain": [
       "<matplotlib.axes._subplots.AxesSubplot at 0x7fe56e5ae550>"
      ]
     },
     "execution_count": 21,
     "metadata": {},
     "output_type": "execute_result"
    },
    {
     "data": {
      "image/png": "[encoded data removed]",
      "text/plain": [
       "<Figure size 432x288 with 2 Axes>"
      ]
     },
     "metadata": {
      "needs_background": "light"
     },
     "output_type": "display_data"
    }
   ],
   "source": [
    "sns.heatmap(df.isna())"
   ]
  },
  {
   "cell_type": "code",
   "execution_count": 22,
   "metadata": {},
   "outputs": [],
   "source": [
    "for row in range (df['Country'].count()):\n",
    "    if ((pd.isna(df.iloc[row,2]))==True and (df.loc[row,'Income Classification'])==0):\n",
    "            df.iloc[row,2]=df_copy0_median\n",
    "    elif ((pd.isna(df.iloc[row,2]))==True and (df.loc[row,'Income Classification'])==1):\n",
    "            df.iloc[row,2]=df_copy1_median\n",
    "    elif((pd.isna(df.iloc[row,2]))==True and (df.loc[row,'Income Classification'])==2):\n",
    "            df.iloc[row,2]=df_copy2_median\n",
    "    elif((pd.isna(df.iloc[row,2]))==True and (df.loc[row,'Income Classification'])==3):\n",
    "            df.iloc[row,2]=df_copy3_median"
   ]
  },
  {
   "cell_type": "code",
   "execution_count": 23,
   "metadata": {},
   "outputs": [
    {
     "data": {
      "text/plain": [
       "Country                  0\n",
       "Income Classification    0\n",
       "Severe Wasting           0\n",
       "Wasting                  2\n",
       "Overweight               3\n",
       "Stunting                 1\n",
       "Underweight              2\n",
       "U5 Population ('000s)    0\n",
       "dtype: int64"
      ]
     },
     "execution_count": 23,
     "metadata": {},
     "output_type": "execute_result"
    }
   ],
   "source": [
    "df.isna().sum()"
   ]
  },
  {
   "cell_type": "markdown",
   "metadata": {},
   "source": [
    "#### similarly for other colums"
   ]
  },
  {
   "cell_type": "raw",
   "metadata": {},
   "source": [
    "using the previous code i use as function to fill the nan values of other coulmns"
   ]
  },
  {
   "cell_type": "code",
   "execution_count": 29,
   "metadata": {},
   "outputs": [],
   "source": [
    "def fillna(column_value):\n",
    "    for row in range (df['Country'].count()):\n",
    "        if ((pd.isna(df.iloc[row,column_value]))==True and (df.loc[row,'Income Classification'])==0):\n",
    "                df.iloc[row,column_value]=df_copy0_median\n",
    "        elif ((pd.isna(df.iloc[row,column_value]))==True and (df.loc[row,'Income Classification'])==1):\n",
    "                df.iloc[row,column_value]=df_copy1_median\n",
    "        elif((pd.isna(df.iloc[row,column_value]))==True and (df.loc[row,'Income Classification'])==2):\n",
    "                df.iloc[row,column_value]=df_copy2_median\n",
    "        elif((pd.isna(df.iloc[row,column_value]))==True and (df.loc[row,'Income Classification'])==3):\n",
    "                df.iloc[row,column_value]=df_copy3_median"
   ]
  },
  {
   "cell_type": "code",
   "execution_count": 34,
   "metadata": {},
   "outputs": [],
   "source": [
    "for column_value in range(3,7):\n",
    "    fillna(column_value)"
   ]
  },
  {
   "cell_type": "code",
   "execution_count": 35,
   "metadata": {},
   "outputs": [
    {
     "data": {
      "text/plain": [
       "Country                  0\n",
       "Income Classification    0\n",
       "Severe Wasting           0\n",
       "Wasting                  0\n",
       "Overweight               0\n",
       "Stunting                 0\n",
       "Underweight              0\n",
       "U5 Population ('000s)    0\n",
       "dtype: int64"
      ]
     },
     "execution_count": 35,
     "metadata": {},
     "output_type": "execute_result"
    }
   ],
   "source": [
    "df.isna().sum()"
   ]
  },
  {
   "cell_type": "code",
   "execution_count": 41,
   "metadata": {},
   "outputs": [
    {
     "data": {
      "text/plain": [
       "<matplotlib.axes._subplots.AxesSubplot at 0x7fe57086d490>"
      ]
     },
     "execution_count": 41,
     "metadata": {},
     "output_type": "execute_result"
    },
    {
     "data": {
      "image/png": "[encoded data removed]",
      "text/plain": [
       "<Figure size 432x288 with 1 Axes>"
      ]
     },
     "metadata": {
      "needs_background": "light"
     },
     "output_type": "display_data"
    }
   ],
   "source": [
    "sns.heatmap(df.isna(),yticklabels=False,cbar=False)"
   ]
  },
  {
   "cell_type": "code",
   "execution_count": null,
   "metadata": {},
   "outputs": [],
   "source": []
  }
 ],
 "metadata": {
  "kernelspec": {
   "display_name": "Python 3",
   "language": "python",
   "name": "python3"
  },
  "language_info": {
   "codemirror_mode": {
    "name": "ipython",
    "version": 3
   },
   "file_extension": ".py",
   "mimetype": "text/x-python",
   "name": "python",
   "nbconvert_exporter": "python",
   "pygments_lexer": "ipython3",
   "version": "3.7.4"
  }
 },
 "nbformat": 4,
 "nbformat_minor": 4
}
